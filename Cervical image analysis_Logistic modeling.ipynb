{
 "cells": [
  {
   "cell_type": "markdown",
   "metadata": {},
   "source": [
    "<div style=\"text-align:center\"><span style=\"color:blue; font-family:Times New Roman; font-size:3em;\"> Logistic regression modeling </span></div>"
   ]
  },
  {
   "cell_type": "markdown",
   "metadata": {},
   "source": [
    "<div style=\"text-align:justify\"><span style=\"color:black; font-family:Times New Roman; font-size:1.5em;line-height:1.4em;\"> \n",
    "&nbsp;&nbsp;&nbsp;&nbsp;&nbsp;&nbsp;&nbsp;&nbsp;&nbsp;\n",
    "In this section, the cervix images are classified by a simple logistic regression model. The file names of the training images are imported from the file 'df_cut_colorscaled.csv' which has been saved in the preprocessing step. The image features are extracted by different methods for all the training images. The output variables of the training data is loaded from 'y_train.pkl'. The performance of a logistic regression model is evaluated by applying grid search the best hyperparameters of the model in the 5-fold cross validation sets. \n",
    " \n",
    " </span></div>"
   ]
  },
  {
   "cell_type": "code",
   "execution_count": 2,
   "metadata": {
    "collapsed": false
   },
   "outputs": [],
   "source": [
    "import glob\n",
    "import mahotas as mh\n",
    "import matplotlib.pyplot as plt\n",
    "%matplotlib inline\n",
    "import numpy as np\n",
    "from pandas import DataFrame, Series\n",
    "from mahotas.features import surf\n",
    "from sklearn.cluster import KMeans\n",
    "from mahotas.features import haralick\n",
    "from sklearn.externals import joblib\n",
    "from sklearn.linear_model import LogisticRegression\n",
    "from sklearn.model_selection import GridSearchCV\n",
    "import warnings\n",
    "warnings.filterwarnings(\"ignore\")\n",
    "import pandas as pd\n",
    "from mahotas.features import lbp\n",
    "from skimage.filters import sobel\n",
    "from sklearn.decomposition import PCA\n",
    "import cv2"
   ]
  },
  {
   "cell_type": "code",
   "execution_count": 3,
   "metadata": {
    "collapsed": false
   },
   "outputs": [
    {
     "data": {
      "text/html": [
       "<div>\n",
       "<table border=\"1\" class=\"dataframe\">\n",
       "  <thead>\n",
       "    <tr style=\"text-align: right;\">\n",
       "      <th></th>\n",
       "      <th>Class</th>\n",
       "      <th>ID</th>\n",
       "      <th>filename</th>\n",
       "      <th>label</th>\n",
       "    </tr>\n",
       "  </thead>\n",
       "  <tbody>\n",
       "    <tr>\n",
       "      <th>0</th>\n",
       "      <td>Type_2</td>\n",
       "      <td>377</td>\n",
       "      <td>train_cut_colorscaled/Type_2\\377.png</td>\n",
       "      <td>1</td>\n",
       "    </tr>\n",
       "    <tr>\n",
       "      <th>1</th>\n",
       "      <td>Type_2</td>\n",
       "      <td>243</td>\n",
       "      <td>train_cut_colorscaled/Type_2\\243.png</td>\n",
       "      <td>1</td>\n",
       "    </tr>\n",
       "    <tr>\n",
       "      <th>2</th>\n",
       "      <td>Type_2</td>\n",
       "      <td>227</td>\n",
       "      <td>train_cut_colorscaled/Type_2\\227.png</td>\n",
       "      <td>1</td>\n",
       "    </tr>\n",
       "    <tr>\n",
       "      <th>3</th>\n",
       "      <td>Type_2</td>\n",
       "      <td>574</td>\n",
       "      <td>train_cut_colorscaled/Type_2\\574.png</td>\n",
       "      <td>1</td>\n",
       "    </tr>\n",
       "    <tr>\n",
       "      <th>4</th>\n",
       "      <td>Type_1</td>\n",
       "      <td>396</td>\n",
       "      <td>train_cut_colorscaled/Type_1\\396.png</td>\n",
       "      <td>0</td>\n",
       "    </tr>\n",
       "  </tbody>\n",
       "</table>\n",
       "</div>"
      ],
      "text/plain": [
       "    Class   ID                              filename  label\n",
       "0  Type_2  377  train_cut_colorscaled/Type_2\\377.png      1\n",
       "1  Type_2  243  train_cut_colorscaled/Type_2\\243.png      1\n",
       "2  Type_2  227  train_cut_colorscaled/Type_2\\227.png      1\n",
       "3  Type_2  574  train_cut_colorscaled/Type_2\\574.png      1\n",
       "4  Type_1  396  train_cut_colorscaled/Type_1\\396.png      0"
      ]
     },
     "execution_count": 3,
     "metadata": {},
     "output_type": "execute_result"
    }
   ],
   "source": [
    "df=pd.read_csv('df_cut_colorscaled.csv')\n",
    "df.head()"
   ]
  },
  {
   "cell_type": "code",
   "execution_count": 4,
   "metadata": {
    "collapsed": false
   },
   "outputs": [],
   "source": [
    "y_train=joblib.load('y_train.pkl', mmap_mode='c')"
   ]
  },
  {
   "cell_type": "code",
   "execution_count": 5,
   "metadata": {
    "collapsed": false
   },
   "outputs": [],
   "source": [
    "def gridsearch_LogisticRegression(x_train_features, y_train):\n",
    "    parameters = {'penalty':('l1','l2'), 'C': np.logspace(-7,7,15)}\n",
    "    classifier = LogisticRegression(random_state=0)\n",
    "    grid = GridSearchCV(classifier,parameters, scoring='log_loss', n_jobs=-1,cv=5)\n",
    "    grid.fit(x_train_features, y_train)\n",
    "    print 'Best parameters set found on validation set:%r' % (grid.best_params_) \n",
    "    print 'Best average loss in validation set: %.5f' %(grid.best_score_)"
   ]
  },
  {
   "cell_type": "markdown",
   "metadata": {},
   "source": [
    "<div style=\"text-align:left\"><span style=\"color:red; font-family:Times New Roman; font-size:1.5em;\">  \n",
    "Haralick texture features \n",
    "</span></div>"
   ]
  },
  {
   "cell_type": "markdown",
   "metadata": {},
   "source": [
    "<div style=\"text-align:justify\"><span style=\"color:black; font-family:Times New Roman; font-size:1.5em;line-height:1.4em;\"> \n",
    "&nbsp;&nbsp;&nbsp;&nbsp;&nbsp;&nbsp;&nbsp;&nbsp;&nbsp;\n",
    "Haralick features are computed from a grey-level co-occurrence matrix. Each element of the matrix is the probability that a pixel with value i will be found adjacent to a pixel of value j. There are 14 statistics extracted the co-occurrence matrix for each direction of adjacency. Since there are four directions of adjacency, there are 52 texture features for each image. When Haralick features are applied into a logistic regression model, the best average Log loss in 5-fold cross validation is 0.92858. \n",
    "\n",
    "\n",
    " \n",
    " </span></div>"
   ]
  },
  {
   "cell_type": "code",
   "execution_count": 48,
   "metadata": {
    "collapsed": true
   },
   "outputs": [],
   "source": [
    "feature_haralick=[]\n",
    "for f in df['filename']:\n",
    "    image=mh.imread(f,as_grey=True)\n",
    "    h=haralick(image.astype('int32')).ravel()\n",
    "    feature_haralick.append(h)"
   ]
  },
  {
   "cell_type": "code",
   "execution_count": 49,
   "metadata": {
    "collapsed": false
   },
   "outputs": [
    {
     "data": {
      "text/plain": [
       "(1409L, 52L)"
      ]
     },
     "execution_count": 49,
     "metadata": {},
     "output_type": "execute_result"
    }
   ],
   "source": [
    "feature_haralick=np.vstack((feature_haralick))\n",
    "feature_haralick.shape"
   ]
  },
  {
   "cell_type": "code",
   "execution_count": 50,
   "metadata": {
    "collapsed": false
   },
   "outputs": [
    {
     "name": "stdout",
     "output_type": "stream",
     "text": [
      "Best parameters set found on validation set:{'penalty': 'l1', 'C': 1000.0}\n",
      "Best average loss in validation set: -0.92858\n"
     ]
    }
   ],
   "source": [
    "gridsearch_LogisticRegression(feature_haralick, y_train)"
   ]
  },
  {
   "cell_type": "markdown",
   "metadata": {},
   "source": [
    "<div style=\"text-align:left\"><span style=\"color:red; font-family:Times New Roman; font-size:1.5em;\">  \n",
    "Surf \n",
    "</span></div>"
   ]
  },
  {
   "cell_type": "markdown",
   "metadata": {},
   "source": [
    "<div style=\"text-align:justify\"><span style=\"color:black; font-family:Times New Roman; font-size:1.5em;line-height:1.4em;\"> \n",
    "&nbsp;&nbsp;&nbsp;&nbsp;&nbsp;&nbsp;&nbsp;&nbsp;&nbsp;\n",
    "In SURF, descriptor vectors with length 64 each are constructed for each image. \n",
    "All of the descriptors extracted from the training images are grouped by K-means into N clusters. Each descriptor is categorized into its nearest cluster centroid. A histogram of length N is constructed by counting the number of descriptors placed into the i-th cluster.\n",
    "A logistic regression model is used to classify each image using the histogram vector constructed by K-means. The best average Log loss in 5-fold cross validation is 0.97956 when N is 200.\n",
    "\n",
    "\n",
    "\n",
    " \n",
    " </span></div>"
   ]
  },
  {
   "cell_type": "code",
   "execution_count": 51,
   "metadata": {
    "collapsed": true
   },
   "outputs": [],
   "source": [
    "image_surf=[]\n",
    "surf_feature_length=[]\n",
    "for f in df['filename']:\n",
    "    image=mh.imread(f,as_grey=True)\n",
    "    s=surf.surf(image, 4, 6, 1, descriptor_only=True)\n",
    "    surf_feature_length.append(np.shape(s)[0])\n",
    "    image_surf.append(np.array(s))\n",
    "image_surf_combined=np.concatenate(image_surf)"
   ]
  },
  {
   "cell_type": "code",
   "execution_count": 52,
   "metadata": {
    "collapsed": false
   },
   "outputs": [
    {
     "name": "stdout",
     "output_type": "stream",
     "text": [
      "#############################\n",
      "When the cluster number is 10 :\n",
      "Best parameters set found on validation set:{'penalty': 'l2', 'C': 100000.0}\n",
      "Best average loss in validation set: -0.98416\n",
      "#############################\n",
      "When the cluster number is 20 :\n",
      "Best parameters set found on validation set:{'penalty': 'l1', 'C': 0.01}\n",
      "Best average loss in validation set: -0.99088\n",
      "#############################\n",
      "When the cluster number is 50 :\n",
      "Best parameters set found on validation set:{'penalty': 'l2', 'C': 0.001}\n",
      "Best average loss in validation set: -0.98246\n",
      "#############################\n",
      "When the cluster number is 100 :\n",
      "Best parameters set found on validation set:{'penalty': 'l2', 'C': 0.001}\n",
      "Best average loss in validation set: -0.98981\n",
      "#############################\n",
      "When the cluster number is 200 :\n",
      "Best parameters set found on validation set:{'penalty': 'l2', 'C': 0.001}\n",
      "Best average loss in validation set: -0.97956\n",
      "#############################\n",
      "When the cluster number is 300 :\n",
      "Best parameters set found on validation set:{'penalty': 'l2', 'C': 0.001}\n",
      "Best average loss in validation set: -0.98050\n"
     ]
    }
   ],
   "source": [
    "for n in [10, 20, 50, 100, 200, 300]:\n",
    "    km=KMeans(n_clusters=n,init='k-means++',random_state=0)\n",
    "    km.fit(image_surf_combined)\n",
    "\n",
    "    feature_surf=[]\n",
    "    start=0\n",
    "    for i in surf_feature_length:\n",
    "        end=start+i\n",
    "        single_image=image_surf_combined[start:end,:]\n",
    "        clusters=km.predict(single_image)\n",
    "        features=np.bincount(clusters)\n",
    "        features=np.append(features, np.zeros((1, n-len(features))))\n",
    "        feature_surf.append(features)\n",
    "        start=end\n",
    "    print '#############################'\n",
    "    print 'When the cluster number is %d :' %n    \n",
    "    gridsearch_LogisticRegression(feature_surf, y_train)"
   ]
  },
  {
   "cell_type": "markdown",
   "metadata": {},
   "source": [
    "<div style=\"text-align:left\"><span style=\"color:red; font-family:Times New Roman; font-size:1.5em;\">  \n",
    "Principal Component Analysis (PCA)\n",
    "</span></div>"
   ]
  },
  {
   "cell_type": "markdown",
   "metadata": {},
   "source": [
    "<div style=\"text-align:justify\"><span style=\"color:black; font-family:Times New Roman; font-size:1.5em;line-height:1.4em;\"> \n",
    "&nbsp;&nbsp;&nbsp;&nbsp;&nbsp;&nbsp;&nbsp;&nbsp;&nbsp;\n",
    "PCA calculates Eigenvectors of a covariance matrix from the training set of images as principle features. These eigenvectors are ortho-normal (uncorrelated) to each other. PCA can reduce the number of features used to represent the data. When the principle features extracted from PCA are used as the inputs of a logistic regression model, the best average Log loss in 5-fold cross validation is 0.93210 \n",
    "\n",
    "\n",
    " \n",
    " </span></div>"
   ]
  },
  {
   "cell_type": "code",
   "execution_count": 6,
   "metadata": {
    "collapsed": true
   },
   "outputs": [],
   "source": [
    "feature_pca=[]\n",
    "for f in df['filename']:\n",
    "    image=mh.imread(f,as_grey=True)\n",
    "    feature_pca.append(np.reshape(image,(256*256)))"
   ]
  },
  {
   "cell_type": "code",
   "execution_count": 7,
   "metadata": {
    "collapsed": false
   },
   "outputs": [
    {
     "name": "stdout",
     "output_type": "stream",
     "text": [
      "Best parameters set found on validation set:{'penalty': 'l1', 'C': 1.0}\n",
      "Best average loss in validation set: -0.93210\n"
     ]
    }
   ],
   "source": [
    "x_train_feature_pca=np.vstack((feature_pca))  \n",
    "pca = PCA(n_components=12, whiten=True,random_state=0).fit(x_train_feature_pca)\n",
    "x_train_pca = pca.transform(x_train_feature_pca)\n",
    "gridsearch_LogisticRegression(x_train_pca, y_train)"
   ]
  },
  {
   "cell_type": "markdown",
   "metadata": {},
   "source": [
    "<div style=\"text-align:left\"><span style=\"color:red; font-family:Times New Roman; font-size:1.5em;\">  \n",
    "local directional pattern (LDP) \n",
    "</span></div>"
   ]
  },
  {
   "cell_type": "markdown",
   "metadata": {},
   "source": [
    "<div style=\"text-align:justify\"><span style=\"color:black; font-family:Times New Roman; font-size:1.5em;line-height:1.4em;\"> \n",
    "&nbsp;&nbsp;&nbsp;&nbsp;&nbsp;&nbsp;&nbsp;&nbsp;&nbsp;\n",
    "The LDP features are obtained by calculating different edge responses and generating a code for each pixel in an image. The resultant LDP-encoded values for all pixels are formed into a histogram as a single feature vector to efficiently represent the image. When a logistic regression model is combined with LDP descriptor, the best average Log loss in 5-fold cross validation is 0.94828. \n",
    "\n",
    " \n",
    " </span></div>"
   ]
  },
  {
   "cell_type": "code",
   "execution_count": 8,
   "metadata": {
    "collapsed": false
   },
   "outputs": [
    {
     "data": {
      "text/plain": [
       "(1409L, 352L)"
      ]
     },
     "execution_count": 8,
     "metadata": {},
     "output_type": "execute_result"
    }
   ],
   "source": [
    "feature_lbp=[]\n",
    "for f in df['filename']:\n",
    "    image=mh.imread(f,as_grey=True)\n",
    "    p=lbp(image, radius=30, points=12)\n",
    "    feature_lbp.append(p)\n",
    "feature_lbp=np.vstack((feature_lbp))\n",
    "feature_lbp.shape"
   ]
  },
  {
   "cell_type": "code",
   "execution_count": 9,
   "metadata": {
    "collapsed": false
   },
   "outputs": [
    {
     "name": "stdout",
     "output_type": "stream",
     "text": [
      "Best parameters set found on validation set:{'penalty': 'l2', 'C': 9.9999999999999995e-08}\n",
      "Best average loss in validation set: -0.94828\n"
     ]
    }
   ],
   "source": [
    "gridsearch_LogisticRegression(feature_lbp, y_train)"
   ]
  },
  {
   "cell_type": "markdown",
   "metadata": {},
   "source": [
    "<div style=\"text-align:left\"><span style=\"color:red; font-family:Times New Roman; font-size:1.5em;\">  \n",
    "Color histogram\n",
    "</span></div>"
   ]
  },
  {
   "cell_type": "markdown",
   "metadata": {},
   "source": [
    "<div style=\"text-align:justify\"><span style=\"color:black; font-family:Times New Roman; font-size:1.5em;line-height:1.4em;\"> \n",
    "&nbsp;&nbsp;&nbsp;&nbsp;&nbsp;&nbsp;&nbsp;&nbsp;&nbsp;\n",
    "The 256 possible values of each color channel (R, G, B) in an image are mapped into a small set of values which are 0, 1, 2, 3, 4. The intensity value of a pixel is calculated by B + 5xG + 5x5xR. A histogram of an image is extracted from the intensity values of all pixel by calculating the number of pixels at a certain intensity value. Therefore, the 3D RGB color space is converted into 1-dimensional vector with 5x5x5 (125) features. The feature extraction from color histogram technique can achieve a log-loss value of 0.86822. \n",
    "\n",
    " \n",
    " </span></div>"
   ]
  },
  {
   "cell_type": "code",
   "execution_count": 10,
   "metadata": {
    "collapsed": false
   },
   "outputs": [
    {
     "data": {
      "text/plain": [
       "(1409L, 125L)"
      ]
     },
     "execution_count": 10,
     "metadata": {},
     "output_type": "execute_result"
    }
   ],
   "source": [
    "feature_colorhist=[]\n",
    "for f in df['filename']:\n",
    "    image=mh.imread(f)\n",
    "    hist=cv2.calcHist([image], [0, 1, 2], None, [5, 5, 5], [0, 256, 0, 256, 0, 256])\n",
    "    hist=hist.ravel() \n",
    "    feature_colorhist.append(np.log1p(hist))\n",
    "feature_colorhist=np.vstack((feature_colorhist)) \n",
    "feature_colorhist.shape"
   ]
  },
  {
   "cell_type": "code",
   "execution_count": 11,
   "metadata": {
    "collapsed": false
   },
   "outputs": [
    {
     "name": "stdout",
     "output_type": "stream",
     "text": [
      "Best parameters set found on validation set:{'penalty': 'l1', 'C': 0.10000000000000001}\n",
      "Best average loss in validation set: -0.86822\n"
     ]
    }
   ],
   "source": [
    "gridsearch_LogisticRegression(feature_colorhist, y_train)"
   ]
  },
  {
   "cell_type": "markdown",
   "metadata": {},
   "source": [
    "<div style=\"text-align:left\"><span style=\"color:red; font-family:Times New Roman; font-size:1.5em;\">  \n",
    "Discussion \n",
    "</span></div>"
   ]
  },
  {
   "cell_type": "code",
   "execution_count": 19,
   "metadata": {
    "collapsed": false
   },
   "outputs": [
    {
     "data": {
      "image/png": "[encoded data removed]",
      "text/plain": [
       "<matplotlib.figure.Figure at 0x3d81bdd8>"
      ]
     },
     "metadata": {},
     "output_type": "display_data"
    }
   ],
   "source": [
    "feature_extraction_methods=['Haralick', 'Surf', 'PCA', 'LDP', 'Color histogram' ]\n",
    "log_loss=[0.92858, 0.97956, 0.93210, 0.94828, 0.86822]\n",
    "methods_scores=zip(feature_extraction_methods, log_loss)\n",
    "methods_scores=sorted(methods_scores, key=lambda x:x[1])\n",
    "\n",
    "fig=plt.figure (figsize=(10,4), facecolor='white')\n",
    "plt.barh(range(0, len(methods_scores)),zip(*methods_scores)[1])\n",
    "plt.yticks(range(0, len(methods_scores)), zip(*methods_scores)[0])\n",
    "plt.xlim([0.85,1.0])\n",
    "plt.grid()\n",
    "plt.title('Best Log Loss value')\n",
    "plt.show()"
   ]
  },
  {
   "cell_type": "markdown",
   "metadata": {},
   "source": [
    "<div style=\"text-align:justify\"><span style=\"color:black; font-family:Times New Roman; font-size:1.5em;line-height:1.4em;\"> \n",
    "&nbsp;&nbsp;&nbsp;&nbsp;&nbsp;&nbsp;&nbsp;&nbsp;&nbsp;\n",
    "The calculated log-loss values for 5 different methods of image features extraction are shown above. As we can see, color histogram performs best among these feature extraction techniques. The features of color histogram can provides information about the characteristics of the intensity level distribution for an image. I am not a gynecologist, but I guess that the distinction of the cervix types is associated with the color contrast around the cervix. Cervix Type 1 tends to have obvious red appearance on the rest of pink color skin. Cervix Type 3 looks like only showing pink skin around the cervix. Type 2 is a mix between them. Color contrast plays a very important key to classify cervix types. Therefore, the color histogram technique can efficiently capture important features of the cervix images, compared with other methods. However, the log-loss score of 0.86 is not still satisfying. I will try a fantastic technique - convolutional neural network to improve the score in next section. \n",
    " \n",
    " </span></div>"
   ]
  },
  {
   "cell_type": "code",
   "execution_count": null,
   "metadata": {
    "collapsed": true
   },
   "outputs": [],
   "source": []
  }
 ],
 "metadata": {
  "kernelspec": {
   "display_name": "Python 2",
   "language": "python",
   "name": "python2"
  },
  "language_info": {
   "codemirror_mode": {
    "name": "ipython",
    "version": 2
   },
   "file_extension": ".py",
   "mimetype": "text/x-python",
   "name": "python",
   "nbconvert_exporter": "python",
   "pygments_lexer": "ipython2",
   "version": "2.7.12"
  }
 },
 "nbformat": 4,
 "nbformat_minor": 0
}
